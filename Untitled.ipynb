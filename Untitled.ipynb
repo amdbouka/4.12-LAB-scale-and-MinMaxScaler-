{
 "cells": [
  {
   "cell_type": "code",
   "execution_count": 16,
   "id": "22bd6a22",
   "metadata": {},
   "outputs": [
    {
     "name": "stdout",
     "output_type": "stream",
     "text": [
      "The means of df1 are  LOAN      -4.984675e-17\n",
      "MORTDUE    1.914178e-17\n",
      "VALUE     -1.790682e-18\n",
      "YOJ       -7.235161e-17\n",
      "CLAGE     -4.194176e-17\n",
      "CLNO      -6.033821e-17\n",
      "DEBTINC    2.297013e-16\n",
      "dtype: float64\n",
      "The standard deviations of df1 are  LOAN       1.005141\n",
      "MORTDUE    1.005797\n",
      "VALUE      1.005420\n",
      "YOJ        1.005666\n",
      "CLAGE      1.005602\n",
      "CLNO       1.005479\n",
      "DEBTINC    1.017700\n",
      "dtype: float64\n",
      "The means of df2 are  LOAN       0.671006\n",
      "MORTDUE    0.358735\n",
      "VALUE      0.299044\n",
      "YOJ        0.292135\n",
      "CLAGE      0.448986\n",
      "CLNO       0.346377\n",
      "DEBTINC    0.624927\n",
      "dtype: float64\n",
      "The standard deviations of df2 are  LOAN       0.269531\n",
      "MORTDUE    0.247183\n",
      "VALUE      0.187587\n",
      "YOJ        0.237945\n",
      "CLAGE      0.226345\n",
      "CLNO       0.188681\n",
      "DEBTINC    0.222946\n",
      "dtype: float64\n"
     ]
    }
   ],
   "source": [
    "# Import the necessary modules\n",
    "import pandas as pd\n",
    "from sklearn import preprocessing\n",
    "\n",
    "# Read in the file \n",
    "hmeq = pd.read_csv(\"hmeq_small.csv\")\n",
    "#print(hmeq.columns)\n",
    "\n",
    "# # Standardize the data\n",
    "standardized = preprocessing.scale(hmeq)\n",
    "\n",
    "# # Output the standardized data as a data frame\n",
    "df1 = pd.DataFrame(standardized, columns = ['LOAN', 'MORTDUE', 'VALUE', 'YOJ', 'CLAGE', 'CLNO', 'DEBTINC'])\n",
    "#print(df1)\n",
    "\n",
    "\n",
    "# # Normalize the data\n",
    "normalized = preprocessing.MinMaxScaler().fit_transform(hmeq)\n",
    "\n",
    "# Output the standardized data as a data frame\n",
    "df2 = pd.DataFrame(normalized, columns = ['LOAN', 'MORTDUE', 'VALUE', 'YOJ', 'CLAGE', 'CLNO', 'DEBTINC'])\n",
    "#print(df2)\n",
    "\n",
    "\n",
    "# Print the means and standard deviations of df1 and df2\n",
    "print(\"The means of df1 are \", df1.mean())\n",
    "print(\"The standard deviations of df1 are \", df1.std())\n",
    "print(\"The means of df2 are \", df2.mean())\n",
    "print(\"The standard deviations of df2 are \", df2.std())"
   ]
  },
  {
   "cell_type": "code",
   "execution_count": null,
   "id": "87a2fbe4",
   "metadata": {},
   "outputs": [],
   "source": []
  }
 ],
 "metadata": {
  "kernelspec": {
   "display_name": "Python 3 (ipykernel)",
   "language": "python",
   "name": "python3"
  },
  "language_info": {
   "codemirror_mode": {
    "name": "ipython",
    "version": 3
   },
   "file_extension": ".py",
   "mimetype": "text/x-python",
   "name": "python",
   "nbconvert_exporter": "python",
   "pygments_lexer": "ipython3",
   "version": "3.10.9"
  }
 },
 "nbformat": 4,
 "nbformat_minor": 5
}
